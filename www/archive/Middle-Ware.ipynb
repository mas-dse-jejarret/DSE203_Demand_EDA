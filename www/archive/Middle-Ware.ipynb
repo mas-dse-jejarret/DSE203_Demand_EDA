{
 "cells": [
  {
   "cell_type": "code",
   "execution_count": 1,
   "metadata": {
    "collapsed": true
   },
   "outputs": [],
   "source": [
    "from rx import Observable, Observer\n"
   ]
  },
  {
   "cell_type": "code",
   "execution_count": 2,
   "metadata": {
    "collapsed": true
   },
   "outputs": [],
   "source": [
    "from sqlalchemy import create_engine, text"
   ]
  },
  {
   "cell_type": "code",
   "execution_count": 3,
   "metadata": {
    "collapsed": true
   },
   "outputs": [],
   "source": [
    "from __future__ import print_function"
   ]
  },
  {
   "cell_type": "code",
   "execution_count": 14,
   "metadata": {
    "collapsed": true
   },
   "outputs": [],
   "source": [
    "import pprint\n",
    "pp = pprint.PrettyPrinter(depth=6)"
   ]
  },
  {
   "cell_type": "code",
   "execution_count": 4,
   "metadata": {},
   "outputs": [
    {
     "name": "stdout",
     "output_type": "stream",
     "text": [
      "{'url': 'http://45.79.91.219:19002/query/service', 'headers': {'Content-type': 'application/x-www-form-urlencoded'}, 'data': '    USE AstxDB;\\nselect *  from TableBT v; \\n'}\n"
     ]
    },
    {
     "data": {
      "text/plain": [
       "<rx.disposables.anonymousdisposable.AnonymousDisposable at 0x1046011d0>"
      ]
     },
     "execution_count": 4,
     "metadata": {},
     "output_type": "execute_result"
    }
   ],
   "source": [
    "import requests\n",
    "\n",
    "\n",
    "headers = {'Content-type': 'application/x-www-form-urlencoded'}\n",
    "\n",
    "data=\"\"\"    USE AstxDB;\n",
    "select *  from TableBT v; \n",
    "\"\"\"\n",
    "\n",
    "response = requests.post('http://45.79.91.219:19002/query/service', data=data, headers=headers)\n",
    "\n",
    "info = {\n",
    "    \"url\" : 'http://45.79.91.219:19002/query/service',\n",
    "    \"headers\" : headers,\n",
    "    \"data\" : data\n",
    "}\n",
    "\n",
    "x = [info]\n",
    "\n",
    "source = Observable.from_(x)\n",
    "source.subscribe(lambda x: print(x))"
   ]
  },
  {
   "cell_type": "code",
   "execution_count": 6,
   "metadata": {},
   "outputs": [
    {
     "data": {
      "text/plain": [
       "u'{\\n\\t\"requestID\": \"fd04aab7-b23b-452d-b5a3-2c6400e2012a\",\\n\\t\"signature\": \"*\",\\n\\t\"results\": [ { \"v\": { \"id\": 1, \"parent_id\": 1, \"childName\": \"Langdon Childress\" } }\\n, { \"v\": { \"id\": 2, \"parent_id\": 2, \"childName\": \"George Cavanaugh\" } }\\n, { \"v\": { \"id\": 3, \"parent_id\": 2, \"childName\": \"Susan Sarandon\" } }\\n, { \"v\": { \"id\": 4, \"parent_id\": 3, \"childName\": \"Kris Sarah\" } }\\n ]\\n\\t,\\n\\t\"status\": \"success\",\\n\\t\"metrics\": {\\n\\t\\t\"elapsedTime\": \"447.646402ms\",\\n\\t\\t\"executionTime\": \"437.852808ms\",\\n\\t\\t\"resultCount\": 4,\\n\\t\\t\"resultSize\": 273\\n\\t}\\n}\\n'"
      ]
     },
     "execution_count": 6,
     "metadata": {},
     "output_type": "execute_result"
    }
   ],
   "source": [
    "response.text"
   ]
  },
  {
   "cell_type": "code",
   "execution_count": 7,
   "metadata": {
    "collapsed": true
   },
   "outputs": [],
   "source": [
    "import json\n",
    "jsonobj = json.loads(response.text)"
   ]
  },
  {
   "cell_type": "code",
   "execution_count": 20,
   "metadata": {
    "collapsed": true
   },
   "outputs": [],
   "source": [
    "xml = '''\n",
    "    <root>\n",
    "        <PG processor=\"postgresql_exec\" conf=\"./postgresql.conf\">\n",
    "            <SQLBook>\n",
    "                <public>\n",
    "                    <customers>\n",
    "                        <COL NAME=\"customerid\" TYPE=\"String\" />\n",
    "                        <COL NAME=\"firstname\" TYPE=\"String\" />\n",
    "                    </customers>\n",
    "                    <reviews>\n",
    "                        <COL NAME=\"customerid\" TYPE=\"String\" />\n",
    "                        <COL NAME=\"firstname\" TYPE=\"String\" />\n",
    "                    </reviews>                    \n",
    "                </public>\n",
    "            </SQLBook>         \n",
    "            <DB>\n",
    "                <SCHEMA>\n",
    "                    <VIEW1>\n",
    "                        <COL NAME=\"Col1\" TYPE=\"String\" />\n",
    "                        <COL NAME=\"Col2\" TYPE=\"Integer\" />\n",
    "                    </VIEW1>\n",
    "                    <VIEW2>\n",
    "                        <COL NAME=\"Col1\" TYPE=\"String\" />\n",
    "                        <COL NAME=\"Col2\" TYPE=\"Integer\" />\n",
    "                    </VIEW2>                    \n",
    "                </SCHEMA>\n",
    "            </DB>\n",
    "            <orm2>\n",
    "                <public>\n",
    "                    <AddressTable>\n",
    "                        <COL NAME=\"Col1\" TYPE=\"String\" />\n",
    "                        <COL NAME=\"Col2\" TYPE=\"Integer\" />\n",
    "                    </AddressTable>\n",
    "                </public>\n",
    "            </orm2>\n",
    "            <dbTest>\n",
    "                <public>\n",
    "                    <table1>\n",
    "                        <COL NAME=\"id\" TYPE=\"Integer\" />\n",
    "                        <COL NAME=\"name\" TYPE=\"String\" />\n",
    "                    </table1>                  \n",
    "                </public>\n",
    "            </dbTest>             \n",
    "        </PG>\n",
    "        <AX processor=\"asterixdb_exec2\" conf=\"./astrixdb.conf\">\n",
    "                <AstxDB>\n",
    "                    <TableBT>\n",
    "                        <COL NAME=\"id\" TYPE=\"Integer\" />\n",
    "                        <COL NAME=\"childName\" TYPE=\"String\" />\n",
    "                    </TableBT>                     \n",
    "                </AstxDB>\n",
    "            </AX>\n",
    "        </root>\n",
    "'''"
   ]
  },
  {
   "cell_type": "code",
   "execution_count": 21,
   "metadata": {
    "scrolled": false
   },
   "outputs": [
    {
     "name": "stdout",
     "output_type": "stream",
     "text": [
      "'\\n    <root>\\n        <PG processor=\"postgresql_exec\" conf=\"./postgresql.conf\">\\n            <SQLBook>\\n                <public>\\n                    <customers>\\n                        <COL NAME=\"customerid\" TYPE=\"String\" />\\n                        <COL NAME=\"firstname\" TYPE=\"String\" />\\n                    </customers>\\n                    <reviews>\\n                        <COL NAME=\"customerid\" TYPE=\"String\" />\\n                        <COL NAME=\"firstname\" TYPE=\"String\" />\\n                    </reviews>                    \\n                </public>\\n            </SQLBook>         \\n            <DB>\\n                <SCHEMA>\\n                    <VIEW1>\\n                        <COL NAME=\"Col1\" TYPE=\"String\" />\\n                        <COL NAME=\"Col2\" TYPE=\"Integer\" />\\n                    </VIEW1>\\n                    <VIEW2>\\n                        <COL NAME=\"Col1\" TYPE=\"String\" />\\n                        <COL NAME=\"Col2\" TYPE=\"Integer\" />\\n                    </VIEW2>                    \\n                </SCHEMA>\\n            </DB>\\n            <orm2>\\n                <public>\\n                    <AddressTable>\\n                        <COL NAME=\"Col1\" TYPE=\"String\" />\\n                        <COL NAME=\"Col2\" TYPE=\"Integer\" />\\n                    </AddressTable>\\n                </public>\\n            </orm2>\\n            <dbTest>\\n                <public>\\n                    <table1>\\n                        <COL NAME=\"id\" TYPE=\"Integer\" />\\n                        <COL NAME=\"name\" TYPE=\"String\" />\\n                    </table1>                  \\n                </public>\\n            </dbTest>             \\n        </PG>\\n        <AX processor=\"asterixdb_exec2\" conf=\"./astrixdb.conf\">\\n                <AstxDB>\\n                    <TableBT>\\n                        <COL NAME=\"id\" TYPE=\"Integer\" />\\n                        <COL NAME=\"childName\" TYPE=\"String\" />\\n                    </TableBT>                     \\n                </AstxDB>\\n            </AX>\\n        </root>\\n'\n"
     ]
    }
   ],
   "source": [
    "pp.pprint(xml)"
   ]
  },
  {
   "cell_type": "code",
   "execution_count": 22,
   "metadata": {},
   "outputs": [],
   "source": [
    "from lxml import etree\n",
    "root = etree.XML(xml)\n",
    "\n",
    "\n",
    "#find_text = etree.XPath(\"//PG/DB/SCHEMA/View1/child::node()\")\n",
    "#print(root.find(\"PG/DB/SCHEMA\")[0].tag)\n"
   ]
  },
  {
   "cell_type": "code",
   "execution_count": 315,
   "metadata": {},
   "outputs": [
    {
     "data": {
      "text/plain": [
       "{u'from': {u'v1': u'PG/dbTest/public/table1', u'v2': u'AX/AstxDB/TableBT'},\n",
       " u'opts': {u'random': {}},\n",
       " u'order': u'v1.name',\n",
       " u'return': u'v1.id, v2.parent_id, v1.name, v2.childName',\n",
       " u'where': u'v1.id = v2.parent_id'}"
      ]
     },
     "execution_count": 315,
     "metadata": {},
     "output_type": "execute_result"
    }
   ],
   "source": [
    "import json\n",
    "query = '''\n",
    "{\n",
    "    \"from\" : {\n",
    "                \"v1\" : \"PG/dbTest/public/table1\",\n",
    "                \"v2\" : \"AX/AstxDB/TableBT\"\n",
    "            },\n",
    "    \"where\" : \"v1.id = v2.parent_id\",\n",
    "    \"order\" : \"v1.name\",\n",
    "    \"opts\" : {\n",
    "                \"random\" : {}\n",
    "             },\n",
    "    \"return\" : \"v1.id, v2.parent_id, v1.name, v2.childName\" \n",
    "}\n",
    "'''\n",
    "jl = json.loads(query)\n",
    "jl"
   ]
  },
  {
   "cell_type": "code",
   "execution_count": 316,
   "metadata": {
    "collapsed": true
   },
   "outputs": [],
   "source": [
    "viv = {x : { \\\n",
    "            \"key\" : x, \\\n",
    "            \"db\" : jl[\"from\"][x], \\\n",
    "            \"where\" : jl[\"where\"], \\\n",
    "            \"return\" : jl[\"return\"] \\\n",
    "           } for x in jl[\"from\"].keys()}"
   ]
  },
  {
   "cell_type": "code",
   "execution_count": 317,
   "metadata": {},
   "outputs": [
    {
     "data": {
      "text/plain": [
       "{'db': u'AX/AstxDB/TableBT',\n",
       " 'key': u'v2',\n",
       " 'return': u'v1.id, v2.parent_id, v1.name, v2.childName',\n",
       " 'where': u'v1.id = v2.parent_id'}"
      ]
     },
     "execution_count": 317,
     "metadata": {},
     "output_type": "execute_result"
    }
   ],
   "source": [
    "viv[\"v2\"]"
   ]
  },
  {
   "cell_type": "code",
   "execution_count": 318,
   "metadata": {},
   "outputs": [
    {
     "data": {
      "text/plain": [
       "''"
      ]
     },
     "execution_count": 318,
     "metadata": {},
     "output_type": "execute_result"
    }
   ],
   "source": [
    "import re\n",
    "\n",
    "def getDomain(val):\n",
    "    rec = re.compile(r'^([A-Z][A-Z])/')\n",
    "    res = rec.findall(val)\n",
    "    return ''.join(res)\n",
    "\n",
    "\n",
    "getDomain(u'//AX/DB/SCHEMA/View1')"
   ]
  },
  {
   "cell_type": "code",
   "execution_count": 319,
   "metadata": {},
   "outputs": [
    {
     "data": {
      "text/plain": [
       "'TableBT'"
      ]
     },
     "execution_count": 319,
     "metadata": {},
     "output_type": "execute_result"
    }
   ],
   "source": [
    "table = root.find('AX/AstxDB/TableBT').tag\n",
    "table"
   ]
  },
  {
   "cell_type": "code",
   "execution_count": 320,
   "metadata": {
    "collapsed": true
   },
   "outputs": [],
   "source": [
    "class SomeObserver(Observer):\n",
    "\n",
    "    def on_next(self, value):\n",
    "\n",
    "        processor = root.find(value[\"domain\"]).attrib[\"processor\"]\n",
    "        \n",
    "        if value[\"domain\"] not in domain.keys():\n",
    "            domain[value[\"domain\"]] = {}\n",
    "        domain[value[\"domain\"]][value[\"key\"]] = { \n",
    "            \"processor\" : processor,\n",
    "            \"db\" : value[\"db\"],\n",
    "            \"where\" : value[\"where\"],\n",
    "            \"return\" : value[\"return\"]\n",
    "        }\n",
    "\n",
    "    def on_completed(self):\n",
    "        print(\"Done!\")\n",
    "\n",
    "    def on_error(self, error):\n",
    "        print(\"Error Occurred: {0}\".format(error))\n"
   ]
  },
  {
   "cell_type": "code",
   "execution_count": 321,
   "metadata": {},
   "outputs": [
    {
     "name": "stdout",
     "output_type": "stream",
     "text": [
      "Done!\n"
     ]
    },
    {
     "data": {
      "text/plain": [
       "<rx.disposables.anonymousdisposable.AnonymousDisposable at 0x107da49d0>"
      ]
     },
     "execution_count": 321,
     "metadata": {},
     "output_type": "execute_result"
    }
   ],
   "source": [
    "domain={}\n",
    "viv = {}\n",
    "resultset = {}\n",
    "\n",
    "Observable.from_(jl[\"from\"].keys()) \\\n",
    "    .map(lambda x: {\n",
    "                    \"domain\" : getDomain(jl[\"from\"][x]),\n",
    "                    \"key\" : x, \"db\" : jl[\"from\"][x], \\\n",
    "                    \"where\" : jl[\"where\"], \"return\" : jl[\"return\"] \\\n",
    "                   }) \\\n",
    "    .subscribe(SomeObserver()) #lambda x: print(x))\n"
   ]
  },
  {
   "cell_type": "code",
   "execution_count": 322,
   "metadata": {},
   "outputs": [
    {
     "name": "stdout",
     "output_type": "stream",
     "text": [
      "{u'AX': {u'v2': {'db': u'AX/AstxDB/TableBT',\n",
      "                 'processor': 'asterixdb_exec2',\n",
      "                 'return': u'v1.id, v2.parent_id, v1.name, v2.childName',\n",
      "                 'where': u'v1.id = v2.parent_id'}},\n",
      " u'PG': {u'v1': {'db': u'PG/dbTest/public/table1',\n",
      "                 'processor': 'postgresql_exec',\n",
      "                 'return': u'v1.id, v2.parent_id, v1.name, v2.childName',\n",
      "                 'where': u'v1.id = v2.parent_id'}}}\n"
     ]
    }
   ],
   "source": [
    "import pprint\n",
    "pp = pprint.PrettyPrinter(depth=6)\n",
    "pp.pprint(domain)"
   ]
  },
  {
   "cell_type": "code",
   "execution_count": 323,
   "metadata": {
    "collapsed": true
   },
   "outputs": [],
   "source": [
    "import json\n",
    "import requests"
   ]
  },
  {
   "cell_type": "code",
   "execution_count": 324,
   "metadata": {
    "collapsed": true
   },
   "outputs": [],
   "source": [
    "class SomeObserver3(Observer):\n",
    "    \n",
    "    def on_next(self, value):        \n",
    "        targets = ([x[1] for x in [(value[2], x.strip()) for x in value[5].split(\",\")] if x[0] in x[1] ])\n",
    "        \n",
    "        argsdict = {\n",
    "                    'alias' : value[2],\n",
    "                    'where' : value[3],\n",
    "                    'db' : value[4],\n",
    "                    'ret' : targets\n",
    "                   }\n",
    "\n",
    "        globals()[value[0]](**argsdict)        \n",
    "\n",
    "    def on_completed(self):\n",
    "        pass\n",
    "\n",
    "    def on_error(self, error):\n",
    "        print(\"Error Occurred: {0}\".format(error))     \n",
    "\n",
    "class SomeObserver2(Observer):\n",
    "    def on_next(self, value):\n",
    "        Observable.from_(domain[value]) \\\n",
    "        .map(lambda x: (domain[value][x]['processor'],\n",
    "                        value, \n",
    "                        x, \n",
    "                        domain[value][x]['where'], \n",
    "                        domain[value][x]['db'], \n",
    "                        domain[value][x]['return'])) \\\n",
    "        .subscribe(SomeObserver3())\n",
    "\n",
    "    def on_completed(self):\n",
    "        pass\n",
    "\n",
    "    def on_error(self, error):\n",
    "        print(\"Error Occurred: {0}\".format(error))"
   ]
  },
  {
   "cell_type": "code",
   "execution_count": 325,
   "metadata": {
    "scrolled": true
   },
   "outputs": [],
   "source": [
    "def postgresql_exec(alias = None, where = None, db = None, ret = None):\n",
    "    print(\"From PGsql\")\n",
    "    \n",
    "    engine = create_engine('postgresql+psycopg2://postgres@45.79.91.219/dbTest')\n",
    "    conn = engine.connect()   \n",
    "    \n",
    "    \n",
    "    def runquery():\n",
    "        realdb = (root.find(db + \"/..\").tag)\n",
    "        table = root.find(\"{0}\".format(db)).tag\n",
    "        \n",
    "        t = (','.join(ret))\n",
    "        print(t)\n",
    "\n",
    "        sql=\"\"\"\n",
    "        SELECT {0} FROM {1} {2}\n",
    "        LIMIT 1000;\n",
    "        \"\"\"\n",
    "        stmt = text(sql.format(t, table, alias))\n",
    "                \n",
    "        return Observable.from_(conn.execute(stmt))\n",
    "    \n",
    "    def myComplete():\n",
    "        \n",
    "        key1 = where.split('=')[0].strip()\n",
    "        key2 = where.split('=')[1].strip()\n",
    "\n",
    "        print (alias, key1)\n",
    "        print(resultset)\n",
    "        \n",
    "        print(resultset[alias]['cols'].index(key1))\n",
    "\n",
    "        colId1 = resultset[alias]['cols'].index(key1) \n",
    "\n",
    "        print (colId1)\n",
    "        \n",
    "        print ([x for x in resultset[alias]['rows']])\n",
    "\n",
    "        keyids = set([x[colId1] for x in resultset[alias]['rows']])\n",
    "        w=(' OR '.join(['{0} = {1}'.format(key2, x) for x in keyids]))\n",
    "        asterixconfig['keys'] = w        \n",
    "        \n",
    "        \n",
    "        print(\"finished\")\n",
    "        \n",
    "    def myError(x):\n",
    "        pass\n",
    "    \n",
    "    def save(x):\n",
    "        if alias not in resultset.keys():\n",
    "            resultset[alias] = {\n",
    "                                    'cols' : ret,\n",
    "                                    'rows' : []\n",
    "                                   }\n",
    "        resultset[alias][\"rows\"].append(x)\n",
    "\n",
    "\n",
    "    runquery() \\\n",
    "        .subscribe(save, myError, myComplete)\n",
    "        \n",
    "    conn.close()\n",
    "    \n",
    "    # save the keys"
   ]
  },
  {
   "cell_type": "code",
   "execution_count": null,
   "metadata": {},
   "outputs": [],
   "source": []
  },
  {
   "cell_type": "code",
   "execution_count": 326,
   "metadata": {
    "collapsed": true
   },
   "outputs": [],
   "source": [
    "def asterixdb_exec2(sql = None):\n",
    "    headers = {'Content-type': 'application/x-www-form-urlencoded'}\n",
    "    \n",
    "#     response = requests.post('http://localhost:19002/query/service', data=sql, headers=headers) \n",
    "#     jsonobj = json.loads(response.text.replace(\"{ ,\", \"{ \")) \n",
    "    \n",
    "#     def extractFields(x):\n",
    "#         return tuple([x[field.replace(alias + \".\",\"\")] for field in ret])\n",
    "    \n",
    "#     def save(x):\n",
    "#         if alias not in resultset.keys():\n",
    "#             resultset[alias] = {\n",
    "#                                     'cols' : ret,\n",
    "#                                     'rows' : []\n",
    "#                                }\n",
    "#         resultset[alias][\"rows\"].append(x)        \n",
    "    \n",
    "#     Observable.from_(jsonobj[\"results\"]) \\\n",
    "#     .map(lambda x: x[alias]) \\\n",
    "#     .map(extractFields) \\\n",
    "#     .subscribe(save)"
   ]
  },
  {
   "cell_type": "code",
   "execution_count": 327,
   "metadata": {
    "collapsed": true
   },
   "outputs": [],
   "source": [
    "resultset = {}"
   ]
  },
  {
   "cell_type": "code",
   "execution_count": 328,
   "metadata": {},
   "outputs": [
    {
     "data": {
      "text/plain": [
       "{}"
      ]
     },
     "execution_count": 328,
     "metadata": {},
     "output_type": "execute_result"
    }
   ],
   "source": [
    "resultset"
   ]
  },
  {
   "cell_type": "code",
   "execution_count": 329,
   "metadata": {},
   "outputs": [
    {
     "data": {
      "text/plain": [
       "'id = \"1\" OR id = \"2\" OR id = \"3\"'"
      ]
     },
     "execution_count": 329,
     "metadata": {},
     "output_type": "execute_result"
    }
   ],
   "source": [
    "w"
   ]
  },
  {
   "cell_type": "code",
   "execution_count": 330,
   "metadata": {
    "collapsed": true
   },
   "outputs": [],
   "source": [
    "asterixconfig={}"
   ]
  },
  {
   "cell_type": "code",
   "execution_count": 331,
   "metadata": {
    "collapsed": true
   },
   "outputs": [],
   "source": [
    "def asterixdb_exec2(alias = None, where = None, db = None, ret = None, keyids = None):\n",
    "    headers = {'Content-type': 'application/x-www-form-urlencoded'}\n",
    "\n",
    "    realdb = (root.find(db + \"/..\").tag)\n",
    "    table = root.find(\"{0}\".format(db)).tag\n",
    "    \n",
    "    t = (','.join(ret))\n",
    "    \n",
    "    print (db,t,alias)\n",
    "    \n",
    "    sqltemplate=\"\"\"\n",
    "    USE {0}\n",
    "    select {2} from {1} {2}\n",
    "    WHERE <0>;\n",
    "    \"\"\"\n",
    "    asterixconfig['sql']=sqltemplate.format(realdb, table, alias)\n",
    "    asterixconfig['ret']=ret\n",
    "    asterixconfig['alias']=alias\n",
    "    asterixconfig['db']=db\n",
    "    asterixconfig['where']=where\n",
    "    print (asterixconfig['sql'])\n",
    "    \n",
    "\n",
    "    "
   ]
  },
  {
   "cell_type": "code",
   "execution_count": 332,
   "metadata": {},
   "outputs": [
    {
     "data": {
      "text/plain": [
       "{u'childName': u'Langdon Childress', u'id': 1, u'parent_id': 1}"
      ]
     },
     "execution_count": 332,
     "metadata": {},
     "output_type": "execute_result"
    }
   ],
   "source": [
    "x={u'parent_id': 1, u'id': 1, u'childName': u'Langdon Childress'}\n",
    "x"
   ]
  },
  {
   "cell_type": "code",
   "execution_count": 333,
   "metadata": {},
   "outputs": [],
   "source": [
    "def asterixdb_exec3(alias = None, where = None, db = None, ret = None):\n",
    "    sqlT = asterixconfig['sql']\n",
    "    sqlT = sqlT.replace(\"<\",\"{\").replace(\">\",\"}\")\n",
    "    sql = sqlT.format(asterixconfig['keys'])\n",
    "    print(sql)\n",
    "    \n",
    "    ret = asterixconfig['ret']\n",
    "    alias = asterixconfig['alias']\n",
    "    \n",
    "    response = requests.post('http://45.79.91.219:19002/query/service', data=sql, headers=headers) \n",
    "\n",
    "    jsonobj = json.loads(response.text.replace(\"{ ,\", \"{ \")) \n",
    "    \n",
    "    def extractFields(x):\n",
    "#         print (x)\n",
    "#         print tuple([x[field.replace(alias + \".\",\"\")] for field in ret])\n",
    "#         return x\n",
    "        return tuple([x[field.replace(alias + \".\",\"\")] for field in ret])\n",
    "    \n",
    "    def save(x):\n",
    "        if alias not in resultset.keys():\n",
    "            resultset[alias] = {\n",
    "                                    'cols' : ret,\n",
    "                                    'rows' : []\n",
    "                               }\n",
    "        resultset[alias][\"rows\"].append(x)        \n",
    "    \n",
    "    Observable.from_(jsonobj[\"results\"]) \\\n",
    "    .map(lambda x: x[alias]) \\\n",
    "    .map(extractFields) \\\n",
    "    .subscribe(save)"
   ]
  },
  {
   "cell_type": "code",
   "execution_count": 334,
   "metadata": {},
   "outputs": [
    {
     "data": {
      "text/plain": [
       "[]"
      ]
     },
     "execution_count": 334,
     "metadata": {},
     "output_type": "execute_result"
    }
   ],
   "source": [
    "resultset.keys()"
   ]
  },
  {
   "cell_type": "code",
   "execution_count": 335,
   "metadata": {},
   "outputs": [
    {
     "name": "stdout",
     "output_type": "stream",
     "text": [
      "AX/AstxDB/TableBT v2.parent_id,v2.childName v2\n",
      "\n",
      "    USE AstxDB\n",
      "    select v2 from TableBT v2\n",
      "    WHERE <0>;\n",
      "    \n",
      "From PGsql\n",
      "v1.id,v1.name\n",
      "v1 v1.id\n",
      "{u'v1': {'rows': [(1, u'Michael Jordan'), (2, u'Eric Gordon'), (3, u'Shangri La')], 'cols': [u'v1.id', u'v1.name']}}\n",
      "0\n",
      "0\n",
      "[(1, u'Michael Jordan'), (2, u'Eric Gordon'), (3, u'Shangri La')]\n",
      "finished\n"
     ]
    },
    {
     "data": {
      "text/plain": [
       "<rx.disposables.anonymousdisposable.AnonymousDisposable at 0x107f5d850>"
      ]
     },
     "execution_count": 335,
     "metadata": {},
     "output_type": "execute_result"
    }
   ],
   "source": [
    "resultset={}\n",
    "Observable.from_(domain) \\\n",
    ".subscribe(SomeObserver2())"
   ]
  },
  {
   "cell_type": "code",
   "execution_count": 336,
   "metadata": {
    "scrolled": true
   },
   "outputs": [
    {
     "name": "stdout",
     "output_type": "stream",
     "text": [
      "{u'v1': {'cols': [u'v1.id', u'v1.name'],\n",
      "         'rows': [(1, u'Michael Jordan'),\n",
      "                  (2, u'Eric Gordon'),\n",
      "                  (3, u'Shangri La')]}}\n"
     ]
    }
   ],
   "source": [
    "pp = pprint.PrettyPrinter(depth=6)\n",
    "pp.pprint(resultset)"
   ]
  },
  {
   "cell_type": "code",
   "execution_count": 337,
   "metadata": {},
   "outputs": [
    {
     "data": {
      "text/plain": [
       "{'alias': u'v2',\n",
       " 'db': u'AX/AstxDB/TableBT',\n",
       " 'keys': 'v2.parent_id = 1 OR v2.parent_id = 2 OR v2.parent_id = 3',\n",
       " 'ret': [u'v2.parent_id', u'v2.childName'],\n",
       " 'sql': '\\n    USE AstxDB\\n    select v2 from TableBT v2\\n    WHERE <0>;\\n    ',\n",
       " 'where': u'v1.id = v2.parent_id'}"
      ]
     },
     "execution_count": 337,
     "metadata": {},
     "output_type": "execute_result"
    }
   ],
   "source": [
    "asterixconfig"
   ]
  },
  {
   "cell_type": "code",
   "execution_count": 338,
   "metadata": {},
   "outputs": [
    {
     "name": "stdout",
     "output_type": "stream",
     "text": [
      "\n",
      "    USE AstxDB\n",
      "    select v2 from TableBT v2\n",
      "    WHERE v2.parent_id = 1 OR v2.parent_id = 2 OR v2.parent_id = 3;\n",
      "    \n"
     ]
    }
   ],
   "source": [
    "asterixdb_exec3()"
   ]
  },
  {
   "cell_type": "code",
   "execution_count": 339,
   "metadata": {},
   "outputs": [
    {
     "data": {
      "text/plain": [
       "{u'v1': {'cols': [u'v1.id', u'v1.name'],\n",
       "  'rows': [(1, u'Michael Jordan'), (2, u'Eric Gordon'), (3, u'Shangri La')]},\n",
       " u'v2': {'cols': [u'v2.parent_id', u'v2.childName'],\n",
       "  'rows': [(1, u'Langdon Childress'),\n",
       "   (2, u'George Cavanaugh'),\n",
       "   (2, u'Susan Sarandon'),\n",
       "   (3, u'Kris Sarah')]}}"
      ]
     },
     "execution_count": 339,
     "metadata": {},
     "output_type": "execute_result"
    }
   ],
   "source": [
    "resultset"
   ]
  },
  {
   "cell_type": "code",
   "execution_count": 340,
   "metadata": {},
   "outputs": [
    {
     "data": {
      "text/plain": [
       "[1, u'Langdon Childress']"
      ]
     },
     "execution_count": 340,
     "metadata": {},
     "output_type": "execute_result"
    }
   ],
   "source": [
    "[x[field.replace(alias + \".\",\"\")] for field in ret]"
   ]
  },
  {
   "cell_type": "code",
   "execution_count": 341,
   "metadata": {},
   "outputs": [
    {
     "data": {
      "text/plain": [
       "{'alias': u'v2',\n",
       " 'db': u'AX/AstxDB/TableBT',\n",
       " 'keys': 'v2.parent_id = 1 OR v2.parent_id = 2 OR v2.parent_id = 3',\n",
       " 'ret': [u'v2.parent_id', u'v2.childName'],\n",
       " 'sql': '\\n    USE AstxDB\\n    select v2 from TableBT v2\\n    WHERE <0>;\\n    ',\n",
       " 'where': u'v1.id = v2.parent_id'}"
      ]
     },
     "execution_count": 341,
     "metadata": {},
     "output_type": "execute_result"
    }
   ],
   "source": [
    "asterixconfig"
   ]
  },
  {
   "cell_type": "code",
   "execution_count": 342,
   "metadata": {},
   "outputs": [],
   "source": [
    "key1 = asterixconfig['where'].split('=')[0].strip()\n",
    "key2 = asterixconfig['where'].split('=')[1].strip()"
   ]
  },
  {
   "cell_type": "code",
   "execution_count": 343,
   "metadata": {},
   "outputs": [],
   "source": [
    "aliases=resultset.keys()"
   ]
  },
  {
   "cell_type": "code",
   "execution_count": 344,
   "metadata": {},
   "outputs": [
    {
     "data": {
      "text/plain": [
       "{'cols': [u'v1.id', u'v1.name'],\n",
       " 'rows': [(1, u'Michael Jordan'), (2, u'Eric Gordon'), (3, u'Shangri La')]}"
      ]
     },
     "execution_count": 344,
     "metadata": {},
     "output_type": "execute_result"
    }
   ],
   "source": [
    "resultset[aliases[0]]"
   ]
  },
  {
   "cell_type": "code",
   "execution_count": 345,
   "metadata": {},
   "outputs": [
    {
     "data": {
      "text/plain": [
       "{u'v1': {'cols': [u'v1.id', u'v1.name'],\n",
       "  'rows': [(1, u'Michael Jordan'), (2, u'Eric Gordon'), (3, u'Shangri La')]},\n",
       " u'v2': {'cols': [u'v2.parent_id', u'v2.childName'],\n",
       "  'rows': [(1, u'Langdon Childress'),\n",
       "   (2, u'George Cavanaugh'),\n",
       "   (2, u'Susan Sarandon'),\n",
       "   (3, u'Kris Sarah')]}}"
      ]
     },
     "execution_count": 345,
     "metadata": {},
     "output_type": "execute_result"
    }
   ],
   "source": [
    "resultset"
   ]
  },
  {
   "cell_type": "code",
   "execution_count": 346,
   "metadata": {},
   "outputs": [
    {
     "data": {
      "text/plain": [
       "u'v2.parent_id'"
      ]
     },
     "execution_count": 346,
     "metadata": {},
     "output_type": "execute_result"
    }
   ],
   "source": [
    "key2"
   ]
  },
  {
   "cell_type": "code",
   "execution_count": 347,
   "metadata": {},
   "outputs": [
    {
     "data": {
      "text/plain": [
       "{u'v1': {'cols': [u'v1.id', u'v1.name'],\n",
       "  'rows': [(1, u'Michael Jordan'), (2, u'Eric Gordon'), (3, u'Shangri La')]},\n",
       " u'v2': {'cols': [u'v2.parent_id', u'v2.childName'],\n",
       "  'rows': [(1, u'Langdon Childress'),\n",
       "   (2, u'George Cavanaugh'),\n",
       "   (2, u'Susan Sarandon'),\n",
       "   (3, u'Kris Sarah')]}}"
      ]
     },
     "execution_count": 347,
     "metadata": {},
     "output_type": "execute_result"
    }
   ],
   "source": [
    "resultset"
   ]
  },
  {
   "cell_type": "code",
   "execution_count": 348,
   "metadata": {},
   "outputs": [
    {
     "name": "stdout",
     "output_type": "stream",
     "text": [
      "(1, u'Michael Jordan') (1, u'Langdon Childress')\n",
      "(2, u'Eric Gordon') (2, u'George Cavanaugh')\n",
      "(2, u'Eric Gordon') (2, u'Susan Sarandon')\n",
      "(3, u'Shangri La') (3, u'Kris Sarah')\n"
     ]
    }
   ],
   "source": [
    "colKeyIndex1 = resultset[aliases[0]]['cols'].index(key1)\n",
    "colKeyIndex2 = resultset[aliases[1]]['cols'].index(key2)\n",
    "\n",
    "for i, row1 in enumerate(resultset[aliases[0]]['rows']):\n",
    "    row1Key = (row1[colId1])\n",
    "    for j, row2 in enumerate(resultset[aliases[1]]['rows']):\n",
    "        if row1[colKeyIndex1] == row2[colKeyIndex2]:\n",
    "            print(row1, row2)"
   ]
  },
  {
   "cell_type": "code",
   "execution_count": null,
   "metadata": {
    "collapsed": true
   },
   "outputs": [],
   "source": []
  }
 ],
 "metadata": {
  "anaconda-cloud": {},
  "kernelspec": {
   "display_name": "Python [conda root]",
   "language": "python",
   "name": "conda-root-py"
  },
  "language_info": {
   "codemirror_mode": {
    "name": "ipython",
    "version": 2
   },
   "file_extension": ".py",
   "mimetype": "text/x-python",
   "name": "python",
   "nbconvert_exporter": "python",
   "pygments_lexer": "ipython2",
   "version": "2.7.12"
  }
 },
 "nbformat": 4,
 "nbformat_minor": 2
}
