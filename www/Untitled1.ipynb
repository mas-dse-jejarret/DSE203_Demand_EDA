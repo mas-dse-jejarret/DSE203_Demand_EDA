{
 "cells": [
  {
   "cell_type": "code",
   "execution_count": 1,
   "metadata": {
    "collapsed": true
   },
   "outputs": [],
   "source": [
    "import psycopg2\n",
    "from sqlalchemy import create_engine, text\n",
    "import json\n",
    "import pandas as pd\n",
    "try:\n",
    "    from urllib import parse, request\n",
    "except:\n",
    "    from urlparse import urlparse as parse\n",
    "import urllib\n",
    "import urllib2\n",
    "from json import loads\n",
    "import simplejson\n",
    "import pysolr\n",
    "from textblob import TextBlob as tb\n",
    "import requests\n",
    "\n",
    "host=\"132.249.238.27\"\n",
    "dbname='bookstore_dp'\n",
    "user='student'\n",
    "password='123456'\n",
    "\n",
    "pg_connstring='postgresql+psycopg2://{0}:{1}@{2}:5432/{3}'.format(user, password, host, dbname)\n",
    "astx_host=\"132.249.238.32\" # not open or not running in ucsd\n",
    "solr_host=\"132.249.238.28\" # not open or not running in ucsd"
   ]
  },
  {
   "cell_type": "code",
   "execution_count": 77,
   "metadata": {
    "collapsed": true
   },
   "outputs": [],
   "source": [
    "def Sales_Reviews(category, month):\n",
    "    # AsterixDBConnection\n",
    "    class QueryResponse:\n",
    "        def __init__(self, raw_response):\n",
    "            self._json = loads(raw_response)\n",
    "\n",
    "            self.requestID = self._json['requestID'] if 'requestID' in self._json else None\n",
    "            self.clientContextID = self._json['clientContextID'] if 'clientContextID' in self._json else None\n",
    "            self.signature = self._json['signature'] if 'signature' in self._json else None\n",
    "            self.results = self._json['results'] if 'results' in self._json else None\n",
    "            self.metrics = self._json['metrics'] if 'metrics' in self._json else None\n",
    "\n",
    "    class AsterixConnection:\n",
    "        def __init__(self, server='http://{0}'.format(astx_host), port=19002):\n",
    "\n",
    "            self._server = server\n",
    "            self._port = port\n",
    "            self._url_base = self._server + ':' + str(port)\n",
    "\n",
    "            # print (\"connecting to: \" + server)\n",
    "\n",
    "        def query(self, statement, pretty=False, client_context_id=None):\n",
    "            endpoint = '/query/service'\n",
    "\n",
    "            url = self._url_base + endpoint\n",
    "\n",
    "            payload = {\n",
    "                'statement': statement,\n",
    "                'pretty': pretty\n",
    "            }\n",
    "\n",
    "            if client_context_id:\n",
    "                payload['client_context_id'] = client_context_id\n",
    "            try:\n",
    "                data = parse.urlencode(payload).encode(\"utf-8\")\n",
    "                req = request.Request(url, data)\n",
    "                response = request.urlopen(req).read()\n",
    "            except:\n",
    "                data = urllib.urlencode(payload)\n",
    "                data = data.encode(\"utf-8\")\n",
    "                req = urllib2.Request(url, data)\n",
    "                response = urllib2.urlopen(req).read()\n",
    "            # print(data)\n",
    "\n",
    "            return QueryResponse(response)\n",
    "\n",
    "    asterix_conn = AsterixConnection()\n",
    "    axquery = '''\n",
    "        use bookstore_dp;\n",
    "        SELECT * from ClassificationInfo where classification LIKE \"%{0}%\";'''.format(category)\n",
    "\n",
    "    response = asterix_conn.query(axquery)\n",
    "\n",
    "\n",
    "    df = pd.DataFrame(response.results)\n",
    "    node_id = []\n",
    "    for i in range(df.shape[0]):\n",
    "        a = df.ClassificationInfo[i]['nodeID']\n",
    "        node_id.append(a)\n",
    "    node_id = [str(x) for x in node_id]\n",
    "    node_id = set(node_id)\n",
    "    conn_string = \"host='{0}' dbname='{1}' user='{2}' password='{3}'\".format(host, dbname, user, password)\n",
    "    #print (\"Connecting to database\\n\t->%s\" % (conn_string))\n",
    "    conn = psycopg2.connect(conn_string)\n",
    "    cursor = conn.cursor()\n",
    "    #print (\"Connected!\\n\")\n",
    "\n",
    "    sql = \"SELECT DISTINCT o.productid, o.billdate, o.numunits, p.asin,p.nodeid\\\n",
    "        FROM orderlines o, products p\\\n",
    "        WHERE o.productid=p.productid\\\n",
    "        AND EXTRACT(month from billdate)={0};\".format(month)\n",
    "\n",
    "    cursor.execute(sql)\n",
    "\n",
    "    # retrieve the records from the database\n",
    "    records = cursor.fetchall()\n",
    "    colnames = [desc[0] for desc in cursor.description]\n",
    "    df1 = pd.DataFrame(records, columns=colnames)\n",
    "    df2 = df1[df1['nodeid'].isin(node_id)]\n",
    "    df3 = df2.groupby(['billdate', 'productid', 'asin', 'nodeid'], as_index=False)['numunits'].sum()\n",
    "    #print df3\n",
    "    my_asin = df3['asin']\n",
    "    my_asin = set(my_asin)\n",
    "    asin = ', '.join(my_asin)\n",
    "\n",
    "    def solrWrap(core, params):\n",
    "        query_string = 'http://{0}:8983/solr/{1}/select?'.format(solr_host, core)  # connecting to our linode server\n",
    "        for key in params:\n",
    "            query_string = query_string + key + '=' + params[key] + '&'\n",
    "\n",
    "        # print(query_string)\n",
    "\n",
    "        solrcon = pysolr.Solr(query_string, timeout=10)\n",
    "        results = solrcon.search('*:*')\n",
    "        docs = pd.DataFrame(results.docs)\n",
    "        \n",
    "        return docs\n",
    "\n",
    "    d3 = {'q': 'asin:(%s)' % asin, 'rows': '77165'}\n",
    "    \n",
    "    d_res3 = solrWrap(dbname, d3)\n",
    "    \n",
    "    polarity_measure = []\n",
    "    for i in range(d_res3.shape[0]):\n",
    "        str1 = str(d_res3.reviewText[i])\n",
    "        blob = tb(str1)\n",
    "        polarity_measure.append(blob.sentiment.polarity)\n",
    "\n",
    "    se = pd.Series(polarity_measure)\n",
    "    \n",
    "    d_res3['Sentiment_polarity'] = se.values\n",
    "    \n",
    "    d_res3['asin'] = d_res3['asin'].apply(lambda x: '' + str(x)[3:-2] + '')\n",
    "   \n",
    "    df_sentiment = d_res3.groupby(['asin'], as_index=False)['Sentiment_polarity'].mean()\n",
    "    \n",
    "    \n",
    "    result = pd.merge(df3, df_sentiment, on='asin')\n",
    "    \n",
    "    final_result = result.reset_index().to_json(orient='records')\n",
    "\n",
    "    return final_result"
   ]
  },
  {
   "cell_type": "code",
   "execution_count": 78,
   "metadata": {
    "scrolled": true
   },
   "outputs": [
    {
     "data": {
      "text/plain": [
       "'[{\"index\":0,\"billdate\":1296518400000,\"productid\":11083,\"asin\":\"0005126207\",\"nodeid\":\"7009083011\",\"numunits\":1,\"Sentiment_polarity\":0.1951358826},{\"index\":1,\"billdate\":1296604800000,\"productid\":11083,\"asin\":\"0005126207\",\"nodeid\":\"7009083011\",\"numunits\":1,\"Sentiment_polarity\":0.1951358826},{\"index\":2,\"billdate\":1296691200000,\"productid\":11083,\"asin\":\"0005126207\",\"nodeid\":\"7009083011\",\"numunits\":1,\"Sentiment_polarity\":0.1951358826},{\"index\":3,\"billdate\":1296777600000,\"productid\":11083,\"asin\":\"0005126207\",\"nodeid\":\"7009083011\",\"numunits\":3,\"Sentiment_polarity\":0.1951358826},{\"index\":4,\"billdate\":1297123200000,\"productid\":11083,\"asin\":\"0005126207\",\"nodeid\":\"7009083011\",\"numunits\":1,\"Sentiment_polarity\":0.1951358826},{\"index\":5,\"billdate\":1297209600000,\"productid\":11083,\"asin\":\"0005126207\",\"nodeid\":\"7009083011\",\"numunits\":1,\"Sentiment_polarity\":0.1951358826},{\"index\":6,\"billdate\":1297296000000,\"productid\":11083,\"asin\":\"0005126207\",\"nodeid\":\"7009083011\",\"numunits\":1,\"Sentiment_polarity\":0.1951358826},{\"index\":7,\"billdate\":1297382400000,\"productid\":11083,\"asin\":\"0005126207\",\"nodeid\":\"7009083011\",\"numunits\":1,\"Sentiment_polarity\":0.1951358826},{\"index\":8,\"billdate\":1297468800000,\"productid\":11083,\"asin\":\"0005126207\",\"nodeid\":\"7009083011\",\"numunits\":1,\"Sentiment_polarity\":0.1951358826},{\"index\":9,\"billdate\":1297555200000,\"productid\":11083,\"asin\":\"0005126207\",\"nodeid\":\"7009083011\",\"numunits\":1,\"Sentiment_polarity\":0.1951358826},{\"index\":10,\"billdate\":1297728000000,\"productid\":11083,\"asin\":\"0005126207\",\"nodeid\":\"7009083011\",\"numunits\":1,\"Sentiment_polarity\":0.1951358826},{\"index\":11,\"billdate\":1297814400000,\"productid\":11083,\"asin\":\"0005126207\",\"nodeid\":\"7009083011\",\"numunits\":1,\"Sentiment_polarity\":0.1951358826},{\"index\":12,\"billdate\":1297900800000,\"productid\":11083,\"asin\":\"0005126207\",\"nodeid\":\"7009083011\",\"numunits\":1,\"Sentiment_polarity\":0.1951358826},{\"index\":13,\"billdate\":1298073600000,\"productid\":11083,\"asin\":\"0005126207\",\"nodeid\":\"7009083011\",\"numunits\":1,\"Sentiment_polarity\":0.1951358826},{\"index\":14,\"billdate\":1298160000000,\"productid\":11083,\"asin\":\"0005126207\",\"nodeid\":\"7009083011\",\"numunits\":1,\"Sentiment_polarity\":0.1951358826},{\"index\":15,\"billdate\":1298332800000,\"productid\":11083,\"asin\":\"0005126207\",\"nodeid\":\"7009083011\",\"numunits\":1,\"Sentiment_polarity\":0.1951358826},{\"index\":16,\"billdate\":1298419200000,\"productid\":11083,\"asin\":\"0005126207\",\"nodeid\":\"7009083011\",\"numunits\":1,\"Sentiment_polarity\":0.1951358826},{\"index\":17,\"billdate\":1298505600000,\"productid\":11083,\"asin\":\"0005126207\",\"nodeid\":\"7009083011\",\"numunits\":2,\"Sentiment_polarity\":0.1951358826},{\"index\":18,\"billdate\":1298592000000,\"productid\":11083,\"asin\":\"0005126207\",\"nodeid\":\"7009083011\",\"numunits\":3,\"Sentiment_polarity\":0.1951358826},{\"index\":19,\"billdate\":1328227200000,\"productid\":11083,\"asin\":\"0005126207\",\"nodeid\":\"7009083011\",\"numunits\":1,\"Sentiment_polarity\":0.1951358826},{\"index\":20,\"billdate\":1329868800000,\"productid\":11083,\"asin\":\"0005126207\",\"nodeid\":\"7009083011\",\"numunits\":1,\"Sentiment_polarity\":0.1951358826},{\"index\":21,\"billdate\":1330300800000,\"productid\":11083,\"asin\":\"0005126207\",\"nodeid\":\"7009083011\",\"numunits\":1,\"Sentiment_polarity\":0.1951358826},{\"index\":22,\"billdate\":1328486400000,\"productid\":11067,\"asin\":\"0005047218\",\"nodeid\":\"3182\",\"numunits\":1,\"Sentiment_polarity\":0.3184983921},{\"index\":23,\"billdate\":1328745600000,\"productid\":11067,\"asin\":\"0005047218\",\"nodeid\":\"3182\",\"numunits\":1,\"Sentiment_polarity\":0.3184983921},{\"index\":24,\"billdate\":1360368000000,\"productid\":11067,\"asin\":\"0005047218\",\"nodeid\":\"3182\",\"numunits\":1,\"Sentiment_polarity\":0.3184983921},{\"index\":25,\"billdate\":1391212800000,\"productid\":11067,\"asin\":\"0005047218\",\"nodeid\":\"3182\",\"numunits\":1,\"Sentiment_polarity\":0.3184983921},{\"index\":26,\"billdate\":1392854400000,\"productid\":11067,\"asin\":\"0005047218\",\"nodeid\":\"3182\",\"numunits\":1,\"Sentiment_polarity\":0.3184983921},{\"index\":27,\"billdate\":1393372800000,\"productid\":11067,\"asin\":\"0005047218\",\"nodeid\":\"3182\",\"numunits\":1,\"Sentiment_polarity\":0.3184983921},{\"index\":28,\"billdate\":1393459200000,\"productid\":11067,\"asin\":\"0005047218\",\"nodeid\":\"3182\",\"numunits\":1,\"Sentiment_polarity\":0.3184983921},{\"index\":29,\"billdate\":1393545600000,\"productid\":11067,\"asin\":\"0005047218\",\"nodeid\":\"3182\",\"numunits\":1,\"Sentiment_polarity\":0.3184983921},{\"index\":30,\"billdate\":1328659200000,\"productid\":11082,\"asin\":\"0005111994\",\"nodeid\":\"3192\",\"numunits\":1,\"Sentiment_polarity\":0.1802777778},{\"index\":31,\"billdate\":1360281600000,\"productid\":11082,\"asin\":\"0005111994\",\"nodeid\":\"3192\",\"numunits\":1,\"Sentiment_polarity\":0.1802777778},{\"index\":32,\"billdate\":1391212800000,\"productid\":11082,\"asin\":\"0005111994\",\"nodeid\":\"3192\",\"numunits\":1,\"Sentiment_polarity\":0.1802777778},{\"index\":33,\"billdate\":1392854400000,\"productid\":11082,\"asin\":\"0005111994\",\"nodeid\":\"3192\",\"numunits\":1,\"Sentiment_polarity\":0.1802777778},{\"index\":34,\"billdate\":1423180800000,\"productid\":11082,\"asin\":\"0005111994\",\"nodeid\":\"3192\",\"numunits\":1,\"Sentiment_polarity\":0.1802777778},{\"index\":35,\"billdate\":1423094400000,\"productid\":12925,\"asin\":\"0007192428\",\"nodeid\":\"9221735011\",\"numunits\":1,\"Sentiment_polarity\":0.1391579861},{\"index\":36,\"billdate\":1423785600000,\"productid\":12925,\"asin\":\"0007192428\",\"nodeid\":\"9221735011\",\"numunits\":1,\"Sentiment_polarity\":0.1391579861},{\"index\":37,\"billdate\":1424390400000,\"productid\":12966,\"asin\":\"0007196369\",\"nodeid\":\"11764643011\",\"numunits\":0,\"Sentiment_polarity\":0.13125},{\"index\":38,\"billdate\":1424390400000,\"productid\":12991,\"asin\":\"0007199058\",\"nodeid\":\"10633\",\"numunits\":0,\"Sentiment_polarity\":0.2568417127},{\"index\":39,\"billdate\":1424390400000,\"productid\":13009,\"asin\":\"0007201486\",\"nodeid\":\"10687\",\"numunits\":1,\"Sentiment_polarity\":0.2173214286},{\"index\":40,\"billdate\":1424995200000,\"productid\":12953,\"asin\":\"0007194420\",\"nodeid\":\"3048961\",\"numunits\":1,\"Sentiment_polarity\":0.3302639417},{\"index\":41,\"billdate\":1425081600000,\"productid\":12953,\"asin\":\"0007194420\",\"nodeid\":\"3048961\",\"numunits\":1,\"Sentiment_polarity\":0.3302639417},{\"index\":42,\"billdate\":1454457600000,\"productid\":12983,\"asin\":\"0007198140\",\"nodeid\":\"266129\",\"numunits\":1,\"Sentiment_polarity\":0.3178703704}]'"
      ]
     },
     "execution_count": 78,
     "metadata": {},
     "output_type": "execute_result"
    }
   ],
   "source": [
    "Sales_Reviews('Education',2)"
   ]
  },
  {
   "cell_type": "code",
   "execution_count": null,
   "metadata": {
    "collapsed": true
   },
   "outputs": [],
   "source": []
  },
  {
   "cell_type": "code",
   "execution_count": null,
   "metadata": {
    "collapsed": true
   },
   "outputs": [],
   "source": []
  }
 ],
 "metadata": {
  "kernelspec": {
   "display_name": "Python 2",
   "language": "python",
   "name": "python2"
  },
  "language_info": {
   "codemirror_mode": {
    "name": "ipython",
    "version": 2
   },
   "file_extension": ".py",
   "mimetype": "text/x-python",
   "name": "python",
   "nbconvert_exporter": "python",
   "pygments_lexer": "ipython2",
   "version": "2.7.14"
  }
 },
 "nbformat": 4,
 "nbformat_minor": 2
}
