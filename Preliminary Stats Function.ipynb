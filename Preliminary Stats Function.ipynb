{
 "cells": [
  {
   "cell_type": "markdown",
   "metadata": {},
   "source": [
    "### Python 3.6\n",
    "### 10.10.2017"
   ]
  },
  {
   "cell_type": "code",
   "execution_count": 47,
   "metadata": {},
   "outputs": [],
   "source": [
    "import sys\n",
    "import pandas as pd\n",
    "import numpy as np\n",
    "import matplotlib.pyplot as plt\n",
    "import os\n",
    "import psycopg2 # Will need to install if you do not have it already"
   ]
  },
  {
   "cell_type": "code",
   "execution_count": 48,
   "metadata": {
    "collapsed": true
   },
   "outputs": [],
   "source": [
    "class prelimstats(object):\n",
    "    \"\"\"Takes in a datatable name and output different statistics about the variables. \"\"\"\n",
    "    \n",
    "    def __init__(self, datatable):\n",
    "        self.datatable = datatable\n",
    "    \n",
    "    def dbconnect(self):\n",
    "        !mkdir $self.datatable\n",
    "        %cd $self.datatable\n",
    "        \n",
    "        ## To connect to the database ##\n",
    "        try:        \n",
    "            # Specify your own personal username & password\n",
    "            conn = psycopg2.connect(\"dbname='SQLBook' user='postgres' host='/tmp/' password='Awesome534'\")\n",
    "        except:\n",
    "            print ('unable to connect to the database')\n",
    "\n",
    "        self.df = pd.read_sql(\"select * from %s\" %self.datatable, con=conn)\n",
    "        conn.close()\n",
    "        ##\n",
    "        \n",
    "        self.df = self.df.replace('NULL', np.nan) #make string 'NULL' a np.nan\n",
    "        self.text_file = open(\"Data.txt\", \"w\")\n",
    "        self.text_file.write(\"Initial data has %i rows and %i columns\" %(self.df.shape[0], self.df.shape[1]))\n",
    "    \n",
    "    def metadata_overview(self):\n",
    "        try:\n",
    "            self.df['date'] = pd.to_datetime(self.df['date']) # for calendar\n",
    "            self.df['iso'] = pd.to_datetime(self.df['iso']) # for calendar\n",
    "        except:\n",
    "            pass\n",
    "        \n",
    "        self.cols = self.df.columns\n",
    "        for col in self.cols:\n",
    "            if self.df[col].nunique() == 1 and type(self.df[col].unique()[0]) == 'unicode':\n",
    "                self.df[col] = self.df[col].astype(str)\n",
    "                self.text_file.write(\"\\nThe datatype for column: %s is %s.\" %(col, type(self.df[col].unique()[0])))\n",
    "            elif self.df[col].nunique() > 1 and type(self.df[col].unique()[1]) == 'unicode':\n",
    "                self.df[col] = self.df[col].astype(str)\n",
    "                self.text_file.write(\"\\nThe datatype for column: %s is %s.\" %(col, type(self.df[col].unique()[1])))\n",
    "            else:\n",
    "                try:\n",
    "                    self.text_file.write(\"\\nThe datatype for column: %s is %s.\" %(col, type(self.df[col].unique()[1])))\n",
    "                except:\n",
    "                    self.text_file.write(\"\\nThe datatype for column: %s is %s.\" %(col, type(self.df[col].unique()[0])))\n",
    "\n",
    "        self.nominal = []\n",
    "        self.numeric = []\n",
    "        self.datetime = []\n",
    "        for col in self.cols:\n",
    "            if (self.df[col].nunique() > 1 and (type(self.df[col].unique()[1]) == np.int64 or type(self.df[col].unique()[1]) == np.float64)) or (self.df[col].nunique() == 1 and (type(self.df[col].unique()[0]) == np.int64 or type(self.df[col].unique()[0]) == np.float64)):\n",
    "                self.numeric.append(col)\n",
    "            elif (self.df[col].nunique() > 1 and type(self.df[col].unique()[1]) == np.datetime64) or (self.df[col].nunique() == 1 and type(self.df[col].unique()[0]) == np.datetime64):\n",
    "                self.datetime.append(col)\n",
    "            else:\n",
    "                self.nominal.append(col)\n",
    "        self.text_file.write(\"\\nNominal attribute count: %i\" %(len(self.nominal)))\n",
    "        self.text_file.write(\"\\nNumeric attribute count: %i\" %(len(self.numeric)))\n",
    "        self.text_file.write(\"\\nDatetime attribute count: %i\" %(len(self.datetime)))\n",
    "\n",
    "    def datetime_stats(self):\n",
    "        try:\n",
    "            self.date_time = pd.DataFrame(self.df[self.datetime].describe()).T\n",
    "            self.date_time.to_csv('./datetime_stats.csv')\n",
    "        except:\n",
    "            pass\n",
    "\n",
    "    def nominal_stats(self):\n",
    "        self.df = self.df.replace('nan', np.nan)\n",
    "        self.unique_val_count = []\n",
    "        self.null_val_count = []\n",
    "        self.val_counts = []\n",
    "        for n in self.nominal:\n",
    "            self.unique_val_count.append(self.df[n].nunique())\n",
    "            self.null_val_count.append(self.df[n].isnull().sum())\n",
    "            self.df['index'] = self.df.index\n",
    "            self.sorted_counts = self.df.groupby(n)['index'].count()   \n",
    "            self.df1 = pd.DataFrame(list(zip(list(self.sorted_counts.index), list(self.sorted_counts.values), [x/float(self.df.shape[0])*100 for x in list(self.sorted_counts.values)])), columns = ['attribute_values', 'value_count', 'value_count_%_from_total'])\n",
    "            additional = ['Nulls', self.df.shape[0] - sum(self.df1['value_count']), 100 - sum(self.df1['value_count_%_from_total'])]\n",
    "            self.df2 = pd.DataFrame([additional], columns=self.df1.columns)\n",
    "            self.val_counts.append(self.df1.append(self.df2))\n",
    "\n",
    "        self.null_pft = [x/float(self.df.shape[0])*100 for x in self.null_val_count]\n",
    "\n",
    "        self.nominal_stats = pd.DataFrame(list(zip(self.unique_val_count, self.null_val_count, self.null_pft)), index= self.nominal, columns=['unique_val_count', 'null_val_count', 'null_%_from_total'])\n",
    "        self.nominal_stats.to_csv('./nominal_stats.csv')\n",
    "\n",
    "        for i in range(len(self.val_counts)):\n",
    "            self.val_counts[i].to_csv('./'+self.nominal[i]+'_val_counts.csv', index=False)\n",
    "\n",
    "    def numeric_stats(self):\n",
    "        self.stats_numeric_values = self.df.describe()\n",
    "        del self.stats_numeric_values['index']\n",
    "\n",
    "        self.nulls = []\n",
    "        self.median = []\n",
    "        for n in self.numeric:\n",
    "            self.nulls.append(self.df[n].isnull().sum())\n",
    "            self.median.append(self.df[n].median())\n",
    "\n",
    "        self.stats_numeric_values = self.stats_numeric_values.append(pd.DataFrame([self.nulls], index=['null_count'], columns= self.numeric), ignore_index=False)\n",
    "        self.stats_numeric_values = self.stats_numeric_values.append(pd.DataFrame([self.median], index=['median'], columns= self.numeric), ignore_index=False)\n",
    "        self.stats_numeric_values.T.to_csv('./numeric_stats.csv')\n",
    "\n",
    "    def plot_numeric_histograms(self, type):\n",
    "        if type == 'normal':\n",
    "            for n in range(len(self.numeric)):\n",
    "                plt.figure()\n",
    "                self.df[self.numeric[n]].hist(bins=100)\n",
    "                plt.title(self.numeric[n])\n",
    "                plt.xlabel('Attribute values')\n",
    "                plt.ylabel('Frequency')\n",
    "                plt.savefig(self.numeric[n]+\".png\")\n",
    "        else:\n",
    "            for n in range(len(self.numeric)):\n",
    "                try:\n",
    "                    plt.figure()\n",
    "                    self.df[self.numeric[n]].hist(bins=100)\n",
    "                    plt.title(self.numeric[n])\n",
    "                    plt.xscale('log')\n",
    "                    plt.xlabel('Attribute values (log scale)')\n",
    "                    plt.ylabel('Frequency')\n",
    "                    plt.savefig(self.numeric[n]+\"_logscale.png\")\n",
    "                except:\n",
    "                    pass\n",
    "\n",
    "    def close(self):\n",
    "        os.chdir('..')\n",
    "        self.text_file.close()"
   ]
  },
  {
   "cell_type": "code",
   "execution_count": 50,
   "metadata": {},
   "outputs": [
    {
     "name": "stdout",
     "output_type": "stream",
     "text": [
      "C:\\Users\\Orysya\\Desktop\\DSE203\\zipcountry\\zipcounty\n"
     ]
    },
    {
     "name": "stderr",
     "output_type": "stream",
     "text": [
      "C:\\Users\\Orysya\\Anaconda\\envs\\py36\\lib\\site-packages\\matplotlib\\pyplot.py:524: RuntimeWarning: More than 20 figures have been opened. Figures created through the pyplot interface (`matplotlib.pyplot.figure`) are retained until explicitly closed and may consume too much memory. (To control this warning, see the rcParam `figure.max_open_warning`).\n",
      "  max_open_warning, RuntimeWarning)\n"
     ]
    }
   ],
   "source": [
    "datatables = ['calendar', 'campaigns', 'customers', 'orderlines', 'orders', 'products', 'reviews', 'subscribers', \n",
    "              'zipcensus', 'zipcounty']\n",
    "for datatable in datatables:\n",
    "    p = prelimstats(datatable)\n",
    "    p.dbconnect()\n",
    "    p.metadata_overview()\n",
    "    p.datetime_stats()\n",
    "    p.nominal_stats()\n",
    "    p.numeric_stats()\n",
    "    p.plot_numeric_histograms('normal')\n",
    "    p.plot_numeric_histograms('log')\n",
    "    p.close()"
   ]
  },
  {
   "cell_type": "code",
   "execution_count": 52,
   "metadata": {},
   "outputs": [
    {
     "name": "stdout",
     "output_type": "stream",
     "text": [
      "C:\\Users\\Orysya\\Desktop\\DSE203\\zipcountry\n",
      "C:\\Users\\Orysya\\Desktop\\DSE203\n"
     ]
    }
   ],
   "source": [
    "!pwd\n",
    "# %cd .."
   ]
  },
  {
   "cell_type": "code",
   "execution_count": null,
   "metadata": {
    "collapsed": true
   },
   "outputs": [],
   "source": []
  }
 ],
 "metadata": {
  "anaconda-cloud": {},
  "kernelspec": {
   "display_name": "Python [conda env:py36]",
   "language": "python",
   "name": "conda-env-py36-py"
  },
  "language_info": {
   "codemirror_mode": {
    "name": "ipython",
    "version": 3
   },
   "file_extension": ".py",
   "mimetype": "text/x-python",
   "name": "python",
   "nbconvert_exporter": "python",
   "pygments_lexer": "ipython3",
   "version": "3.6.0"
  }
 },
 "nbformat": 4,
 "nbformat_minor": 2
}
